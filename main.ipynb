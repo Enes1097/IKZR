{
 "cells": [
  {
   "cell_type": "markdown",
   "metadata": {},
   "source": [
    "# Solving the Pick-and-Place Environment in Robosuite\n",
    "<img src=\"https://robosuite.ai/docs/images/env_pick_place.png\" align=\"middle\" width=\"100%\"/>\n",
    "\n",
    "Welcome to the \"Project Assignment: Solving the Pick-and-Place Environment in Robosuite\" repository! This repository is intended to allow for the replication of our project results and documents its progress including insights as well as tests.\n",
    "\n",
    "## Table of Contents\n",
    " This repository holds the source code framework for training and evaluating the policy in the pick-and-place environments as well as a configuration file to set the different robosuite modules (robots, controllers, etc.) and tune hyperparameters\n",
    "- [Project Description](#project-description)\n",
    "\t - [Course Description](#course-description)\n",
    "\t - [Task Description](#task-description)\n",
    "- [Installation and Setup](#installation-and-setup)\n",
    "- [Getting Started](#getting-started)\n",
    "\t- [Initial parameters](#initial-parameters)\n",
    "\t- [Train an Agent](#train-an-agent)\n",
    "\t- [Employ an Agent](#employ-an-agent)\n",
    "\t- [Insights and further testing](#insights-and-further-testing)\n",
    "- [Hyperparameter Tuning with Optuna](#hyperparameter-tuning-with-optuna)\n",
    "    - [Installing Optuna](#installing-optuna)\n",
    "\t- [Running Optuna](#running-optuna)\n",
    "\t- [Optuna Dashboard](#optuna-dashboard)\n",
    "\t- [Analysis](#analysis)\n",
    "\t- [Testing optimized parameters](#testing-optimized-parameters)\n",
    "- [Conclusion](#conclusion)"
   ]
  },
  {
   "cell_type": "markdown",
   "metadata": {},
   "source": [
    "## Project Description\n",
    "### Course description\n",
    "**[Innovative Konzepte zur Programmierung von Industrierobotern](https://ipr.iar.kit.edu/lehrangebote_3804.php)** is an interactive course at the Karlsruhe Institute of Technology, supervised by Prof. Björn Hein, dealing with new methods of programming industrial robots. The topics covered in this lecture include collision-detection, collision-free path planning, path optimization and the emerging field of Reinforcement Learning. As the conclusion of the lecture, a final project related to one of these topics must be implemented by a team of two course participants.\n",
    "### Task Description\n",
    "Our team's task is to solve the **[Pick-and-Place Environment](https://robosuite.ai/docs/modules/environments.html#pick-and-place)** from Robosuite using Reinforcement Learning. In this simulated environment, a robot arm needs to place four objects from a bin into their designated container. At every initialization of the environment, the location of the objects are randomized and the task is considered successful is the robot arm manages to place every object into their corresponding container. \n",
    "\n",
    "#### Subtasks:\n",
    "The task (for each object) can be subdivided into the following subtasks:\n",
    "\n",
    " 1. Reaching: Move to nearest object\n",
    " 2. Grasping: Pick up the object\n",
    " 3. Lifting: Carry object to container\n",
    " 4. Hovering: Drop object into corresponding container\n",
    " 5. Repeat starting at 1. until all objects are placed in their corresponding containers\n",
    "\n",
    "#### Reward function:\n",
    "The reward function is essential to understanding the behaviour of the robot while interacting with the environment. In robosuite each environment has implemented two different kinds of reward functions. A binary reward rewards the robot only in the case if the object is placed in its corresponding container. We employed the dense reward function which uses reward shaping and rewards the robot for each subtask (like reaching & grasping), these rewards are then added successively. The image below taken from the [python code for the pick-and-place task](https://github.com/ARISE-Initiative/robosuite/blob/eafb81f54ffc104f905ee48a16bb15f059176ad3/robosuite/environments/manipulation/pick_place.py#L260) describes the additional rewards for each subtask:\n",
    "\n",
    "![](https://github.com/TheOrzo/IKfIR/blob/main/.assets/img/reward_function.png)"
   ]
  },
  {
   "cell_type": "markdown",
   "metadata": {},
   "source": [
    "## Installation and Setup\n",
    "Employing robosuite on windows is possible (e.g. by using a VM or WSL), but it leads to complications during installation, which is why using a linux or mac computer is highly recommended. Our repository also uses the RL algorithm implementations from the stable release of the stable baselines 3 repository.\n",
    "\n",
    "Install all dependencies (robosuite, SB3,..) needed for this repository by running the following commmand.\n",
    "More information about their installation can be found in the [robosuite installation guide](https://robosuite.ai/docs/installation.html) and the [SB3 installation guide](https://stable-baselines3.readthedocs.io/en/master/guide/install.html).\n",
    "\n",
    "On debian the non free cuda driver has to be installed as a kernel level module in order to use the GPU for calculations. This change resulted in crashes of wayland DSP so a X11 has to be used as a fallback.\n",
    "\n",
    "Our code is writen for python3.11. The following python packages are needed: numpy (below version 2), robosuite, stable-baselines3[extra], libhdf5, h5py"
   ]
  },
  {
   "cell_type": "code",
   "execution_count": 1,
   "metadata": {},
   "outputs": [],
   "source": [
    "!python3 -m pip install --upgrade pip\n",
    "!TMPDIR='/var/tmp'  python3  -m  pip  install  -r  requirements.txt"
   ]
  },
  {
   "cell_type": "code",
   "execution_count": 2,
   "metadata": {},
   "outputs": [
    {
     "name": "stderr",
     "output_type": "stream",
     "text": [
      "2024-08-18 13:38:35.433048: E external/local_xla/xla/stream_executor/cuda/cuda_fft.cc:485] Unable to register cuFFT factory: Attempting to register factory for plugin cuFFT when one has already been registered\n",
      "2024-08-18 13:38:35.472635: E external/local_xla/xla/stream_executor/cuda/cuda_dnn.cc:8454] Unable to register cuDNN factory: Attempting to register factory for plugin cuDNN when one has already been registered\n",
      "2024-08-18 13:38:35.482410: E external/local_xla/xla/stream_executor/cuda/cuda_blas.cc:1452] Unable to register cuBLAS factory: Attempting to register factory for plugin cuBLAS when one has already been registered\n",
      "2024-08-18 13:38:35.525297: I tensorflow/core/platform/cpu_feature_guard.cc:210] This TensorFlow binary is optimized to use available CPU instructions in performance-critical operations.\n",
      "To enable the following instructions: AVX2 FMA, in other operations, rebuild TensorFlow with the appropriate compiler flags.\n",
      "2024-08-18 13:38:36.359766: W tensorflow/compiler/tf2tensorrt/utils/py_utils.cc:38] TF-TRT Warning: Could not find TensorRT\n"
     ]
    },
    {
     "name": "stdout",
     "output_type": "stream",
     "text": [
      "Cuda backend is available.\n"
     ]
    }
   ],
   "source": [
    "import numpy as np\n",
    "import os\n",
    "from sys import platform\n",
    "import torch\n",
    "import robosuite as suite\n",
    "\n",
    "\n",
    "from robosuite import load_controller_config\n",
    "from robosuite.environments.base import register_env\n",
    "from robosuite.controllers import load_controller_config\n",
    "from stable_baselines3.common.noise import NormalActionNoise\n",
    "from stable_baselines3.common.save_util import save_to_zip_file, load_from_zip_file\n",
    "from stable_baselines3.common.monitor import Monitor\n",
    "from stable_baselines3.common.vec_env import DummyVecEnv, VecNormalize, SubprocVecEnv\n",
    "from stable_baselines3.common.env_util import make_vec_env\n",
    "from stable_baselines3.common.utils import set_random_seed\n",
    "from stable_baselines3.common.callbacks import EvalCallback, CheckpointCallback\n",
    "from robosuite.wrappers import GymWrapper\n",
    "\n",
    "from stable_baselines3 import PPO, DDPG, SAC\n",
    "\n",
    "\n",
    "# Check if cuda(linux) or mps(mac) is available\n",
    "if torch.cuda.is_available():\n",
    "\tdevice = torch.device(\"cuda\")\n",
    "\tprint(\"Cuda backend is available.\")\n",
    "elif torch.backends.mps.is_available():\n",
    "    device = torch.device(\"mps\")\n",
    "    print(\"Mps backend is available.\")\n",
    "else:\n",
    "\tdevice = torch.device(\"cpu\")\n",
    "\tprint(\"Cuda backend is not available, using CPU.\")"
   ]
  },
  {
   "cell_type": "markdown",
   "metadata": {},
   "source": [
    "## Getting started\n",
    "### Initial parameters\n",
    "To get a feel of how different parameters of the model affect the model performance in a specific environment, we train the model subsequently with different parameters. The following script is a config file defining all parameters that can be adjusted for these subsequent runs."
   ]
  },
  {
   "cell_type": "code",
   "execution_count": 7,
   "metadata": {},
   "outputs": [
    {
     "name": "stdout",
     "output_type": "stream",
     "text": [
      "Recognized Linux. Setting start method to forkserver\n"
     ]
    }
   ],
   "source": [
    "parameters = dict(\n",
    "    # Environment\n",
    "    robot=\"Sawyer\",\n",
    "    gripper=\"default\",\n",
    "    controller=\"OSC_POSE\",\n",
    "    seed=1837812,\n",
    "    control_freq=20,\n",
    "    horizon=1000,\n",
    "    camera_size=84, #84\n",
    "    episodes=350,\n",
    "    eval_episodes=1,\n",
    "    n_processes=6,\n",
    "    n_eval_processes=1,\n",
    "    # Algorithm \n",
    "    algorithm=\"PPO\",            # PPO, DDPG, SAC\n",
    "    policy=\"MlpPolicy\",\n",
    "    gamma=0.99,\n",
    "    learning_rate=1e-2,\n",
    "    n_steps=1000,\n",
    "    batch_size=100,                 # Only DDPG and SAC\n",
    ")\n",
    "\n",
    "\n",
    "if platform == \"linux\" or platform == \"linux2\":\n",
    "    print('Recognized Linux. Setting start method to forkserver')\n",
    "    parameters[\"start_method\"] = 'forkserver'\n",
    "elif platform == 'darwin':\n",
    "    print('Recognized macOs. Setting start method to spawn')\n",
    "    parameters[\"start_method\"] = 'spawn'\n",
    "elif platform == 'win32':\n",
    "    print('Windows? Mutig.')\n",
    "    parameters[\"start_method\"] = 'spawn'\n",
    "else:\n",
    "    print('Could not determine os platform. Set start method to forkserver')\n",
    "    parameters[\"start_method\"] = 'forkserver'\n",
    "\n",
    "test_name = str(parameters[\"robot\"]) + \"_freq\" + str(parameters[\"control_freq\"]) + \"_hor\" + str(parameters[\"horizon\"]) + \"_learn\" + str(parameters[\"learning_rate\"]) + \"_episodes\" + str(parameters[\"episodes\"]) + \"_control\" + str(parameters[\"controller\"])"
   ]
  },
  {
   "cell_type": "markdown",
   "metadata": {},
   "source": [
    "Initial parameters seen in this dict are taken from multiple sources (Benchmarks, Implementations & Papers) referred to under [Sources](#Sources). By initial exploring, we discovered that changing the robot model, batch_size, as well as the learning rate have the greatest impact on the model performance."
   ]
  },
  {
   "cell_type": "markdown",
   "metadata": {},
   "source": [
    "### Train an Agent\n",
    "Run the following script to train a model with the previously specified parameters. The model and tensorboard logs will be stored in the \"tests\" folder named according to the specified parameters."
   ]
  },
  {
   "cell_type": "code",
   "execution_count": 8,
   "metadata": {},
   "outputs": [],
   "source": [
    "#Set up TensorBoard logger\n",
    "tensor_logger = \"./\" + test_name + \"/tensorboard\"\n",
    "print(\"TensorBoard logging to\", tensor_logger)\n",
    "\n",
    "# Set controller configuration\n",
    "controller_config = load_controller_config(default_controller=parameters[\"controller\"])\n",
    "\n",
    "# Define the environment setup\n",
    "# Make robosuite environment into a gym environment as stable baselines only supports gym environments\n",
    "def make_env(env_id, options, rank, seed=0):\n",
    "    def _init():\n",
    "        env = GymWrapper(suite.make(env_id, **options))\n",
    "        env.render_mode = 'mujoco'\n",
    "        env = Monitor(env)\n",
    "        env.reset(seed=seed + rank)\n",
    "        return env\n",
    "    set_random_seed(seed)\n",
    "    return _init\n",
    "\n",
    "# Setup environment\n",
    "# Define environment parameters for specific environment \"PickPlace\"\n",
    "env = SubprocVecEnv([make_env(\n",
    "    \"PickPlace\",\n",
    "    dict(\n",
    "        robots=[parameters[\"robot\"]],                      \n",
    "        gripper_types=parameters[\"gripper\"],                \n",
    "        controller_configs=controller_config,   \n",
    "        has_renderer=False,                     \n",
    "        has_offscreen_renderer=True,\n",
    "        control_freq=parameters[\"control_freq\"],\n",
    "        horizon=parameters[\"horizon\"],\n",
    "        use_object_obs=False,                       # don't provide object observations to agent\n",
    "        use_camera_obs=True,                        # provide image observations to agent\n",
    "        camera_names=\"agentview\",                   # use \"agentview\" camera for observations\n",
    "        camera_heights=parameters[\"camera_size\"],   # image height\n",
    "        camera_widths=parameters[\"camera_size\"],    # image width\n",
    "        reward_shaping=True),                       # use a dense reward signal for learning\n",
    "        i,\n",
    "        parameters[\"seed\"]\n",
    "        ) for i in range(parameters[\"n_processes\"])], start_method=parameters[\"start_method\"])\n",
    "        \n",
    "env = VecNormalize(env)\n",
    "\n",
    "# Initialize model for training:\n",
    "if parameters[\"algorithm\"] == \"PPO\":\n",
    "    model = PPO(\"MlpPolicy\", env, verbose=1, batch_size=parameters[\"batch_size\"], gamma=parameters[\"gamma\"], learning_rate=parameters[\"learning_rate\"], n_steps=parameters[\"n_steps\"], tensorboard_log=tensor_logger, device=device)\n",
    "elif parameters[\"algorithm\"] == \"DDPG\":\n",
    "    n_actions = env.action_space.shape[-1]\n",
    "    action_noise = NormalActionNoise(mean=np.zeros(n_actions), sigma=0.1 * np.ones(n_actions))\n",
    "    model = DDPG(parameters[\"policy\"], env, action_noise=action_noise, verbose=1, batch_size=parameters[\"batch_size\"], tensorboard_log=tensor_logger, device=device)\n",
    "elif parameters[\"algorithm\"] == \"SAC\":\n",
    "    model = SAC(parameters[\"policy\"], env, verbose=1, batch_size=10, train_freq=(1, \"episode\"), learning_rate=0.001, gradient_steps=1000, learning_starts=3300, tensorboard_log=tensor_logger, device=device)\t\n",
    "else:\n",
    "    raise ValueError(\"Invalid algorithm specified in the configuration.\")\n",
    "    \n",
    "'''\n",
    "# Load existing model to train\n",
    "# Comment out the above model initialization and uncomment the following code to load an existing model\n",
    "env.load(\"./\" + test_name + '/env.pkl', env)\n",
    "if parameters[\"algorithm\"] == \"PPO\":\n",
    "    model = PPO.load(\"./\" + test_name + \"/model.zip\", env=env, tensorboard_log=tensor_logger, device=device)\n",
    "elif config[\"algorithm\"] == \"DDPG\":\n",
    "    model = DDPG.load(\"./\" + test_name + \"/model.zip\", env=env,tensorboard_log=tensor_logger, device=device)\n",
    "elif config[\"algorithm\"] == \"SAC\":\n",
    "    model = SAC.load(\"./\" + test_name + \"/model.zip\", env=env, tensorboard_log=tensor_logger, device=device)\n",
    "else:\n",
    "    raise ValueError(\"Invalid algorithm specified in the configuration.\")\n",
    "'''\n",
    "\n",
    "# Train the model and save it\n",
    "model.learn(total_timesteps=parameters[\"horizon\"]*parameters[\"episodes\"], progress_bar=True)\n",
    "model.save(\"./\" + test_name + \"/model.zip\")\n",
    "env.save('./' + test_name + '/env.pkl')\n",
    "\n",
    "env.close()"
   ]
  },
  {
   "cell_type": "markdown",
   "metadata": {},
   "source": [
    "### Tensorboard\n",
    "The following command will open a locally hosted http server for the tensorboard.\n",
    "Navigate to http://localhost:6006 to view the data logged during training."
   ]
  },
  {
   "cell_type": "code",
   "execution_count": 9,
   "metadata": {},
   "outputs": [
    {
     "name": "stdout",
     "output_type": "stream",
     "text": [
      "2024-08-18 14:53:13.772352: E external/local_xla/xla/stream_executor/cuda/cuda_fft.cc:485] Unable to register cuFFT factory: Attempting to register factory for plugin cuFFT when one has already been registered\n",
      "2024-08-18 14:53:13.787492: E external/local_xla/xla/stream_executor/cuda/cuda_dnn.cc:8454] Unable to register cuDNN factory: Attempting to register factory for plugin cuDNN when one has already been registered\n",
      "2024-08-18 14:53:13.792034: E external/local_xla/xla/stream_executor/cuda/cuda_blas.cc:1452] Unable to register cuBLAS factory: Attempting to register factory for plugin cuBLAS when one has already been registered\n",
      "2024-08-18 14:53:13.803108: I tensorflow/core/platform/cpu_feature_guard.cc:210] This TensorFlow binary is optimized to use available CPU instructions in performance-critical operations.\n",
      "To enable the following instructions: AVX2 FMA, in other operations, rebuild TensorFlow with the appropriate compiler flags.\n",
      "2024-08-18 14:53:14.697164: W tensorflow/compiler/tf2tensorrt/utils/py_utils.cc:38] TF-TRT Warning: Could not find TensorRT\n",
      "WARNING: All log messages before absl::InitializeLog() is called are written to STDERR\n",
      "I0000 00:00:1723985595.611053    7126 cuda_executor.cc:1015] successful NUMA node read from SysFS had negative value (-1), but there must be at least one NUMA node, so returning NUMA node zero. See more at https://github.com/torvalds/linux/blob/v6.0/Documentation/ABI/testing/sysfs-bus-pci#L344-L355\n",
      "2024-08-18 14:53:15.637781: W tensorflow/core/common_runtime/gpu/gpu_device.cc:2343] Cannot dlopen some GPU libraries. Please make sure the missing libraries mentioned above are installed properly if you would like to use GPU. Follow the guide at https://www.tensorflow.org/install/gpu for how to download and setup the required libraries for your platform.\n",
      "Skipping registering GPU devices...\n",
      "\n",
      "NOTE: Using experimental fast data loading logic. To disable, pass\n",
      "    \"--load_fast=false\" and report issues on GitHub. More details:\n",
      "    https://github.com/tensorflow/tensorboard/issues/4784\n",
      "\n",
      "Serving TensorBoard on localhost; to expose to the network, use a proxy or pass --bind_all\n",
      "TensorBoard 2.17.0 at http://localhost:6007/ (Press CTRL+C to quit)\n",
      "^C\n"
     ]
    }
   ],
   "source": [
    "!python3 -m tensorboard.main --logdir={'./' + test_name + '/'}\n",
    "\n",
    "#% python -m tensorboard.main --logdir=tensor_logger"
   ]
  },
  {
   "cell_type": "markdown",
   "metadata": {},
   "source": [
    "### Employ an Agent\n",
    "With the following script, the trained model defined by the specified parameters will be used for the task execution. If the trained agent exists, you can run it in the specified environment by:\n"
   ]
  },
  {
   "cell_type": "code",
   "execution_count": 10,
   "metadata": {},
   "outputs": [
    {
     "name": "stdout",
     "output_type": "stream",
     "text": [
      "Using model Sawyer_freq20_hor1000_learn0.001_episodes350_controlOSC_POSE\n"
     ]
    },
    {
     "name": "stderr",
     "output_type": "stream",
     "text": [
      "2024-08-18 14:53:27.333270: E external/local_xla/xla/stream_executor/cuda/cuda_fft.cc:485] Unable to register cuFFT factory: Attempting to register factory for plugin cuFFT when one has already been registered\n",
      "2024-08-18 14:53:27.348087: E external/local_xla/xla/stream_executor/cuda/cuda_dnn.cc:8454] Unable to register cuDNN factory: Attempting to register factory for plugin cuDNN when one has already been registered\n",
      "2024-08-18 14:53:27.352591: E external/local_xla/xla/stream_executor/cuda/cuda_blas.cc:1452] Unable to register cuBLAS factory: Attempting to register factory for plugin cuBLAS when one has already been registered\n",
      "2024-08-18 14:53:27.363025: I tensorflow/core/platform/cpu_feature_guard.cc:210] This TensorFlow binary is optimized to use available CPU instructions in performance-critical operations.\n",
      "To enable the following instructions: AVX2 FMA, in other operations, rebuild TensorFlow with the appropriate compiler flags.\n",
      "2024-08-18 14:53:28.183568: W tensorflow/compiler/tf2tensorrt/utils/py_utils.cc:38] TF-TRT Warning: Could not find TensorRT\n",
      "Qt: Session management error: Could not open network socket\n"
     ]
    },
    {
     "name": "stdout",
     "output_type": "stream",
     "text": [
      "Episode finished after 1000 timesteps\n",
      "Iteration 1/1, Average Reward per Environment: [0.13878148], Average Reward: 0.1387814794874347\n"
     ]
    }
   ],
   "source": [
    "if not os.path.isdir('./' + test_name):\n",
    "    print(\"No model found for this configuration. Train a model first!\")\n",
    "else:\n",
    "    print('Using model ' + test_name)\n",
    "\n",
    "    # Set controller configuration\n",
    "    controller_config = load_controller_config(default_controller=parameters[\"controller\"])\n",
    "\n",
    "    # Define the environment setup\n",
    "    # Make robosuite environment into a gym environment as stable baselines only supports gym environments\n",
    "    def make_env(env_id, options, rank, seed=0):\n",
    "        def _init():\n",
    "            env = GymWrapper(suite.make(env_id, **options))\n",
    "            env.render_mode = 'mujoco'\n",
    "            env = Monitor(env)\n",
    "            env.reset(seed=seed + rank)\n",
    "            return env\n",
    "        set_random_seed(seed)\n",
    "        return _init\n",
    "\n",
    "    # Setup environment\n",
    "    # Define environment parameters for specific environment \"PickPlace\"\n",
    "    env = SubprocVecEnv([make_env(\n",
    "        \"PickPlace\",\n",
    "        dict(\n",
    "            robots=[parameters[\"robot\"]],                      \n",
    "            gripper_types=parameters[\"gripper\"],                \n",
    "            controller_configs=controller_config,   \n",
    "            has_renderer=True,\n",
    "            has_offscreen_renderer=True,\n",
    "            control_freq=parameters[\"control_freq\"],\n",
    "            horizon=parameters[\"horizon\"],\n",
    "            use_object_obs=False,                       # don't provide object observations to agent\n",
    "            use_camera_obs=True,                        # provide image observations to agent\n",
    "            camera_names=\"agentview\",                   # use \"agentview\" camera for observations\n",
    "            camera_heights=parameters[\"camera_size\"],   # image height\n",
    "            camera_widths=parameters[\"camera_size\"],    # image width\n",
    "            reward_shaping=True),                       # use a dense reward signal for learning\n",
    "            i,\n",
    "            parameters[\"seed\"]\n",
    "            ) for i in range(parameters[\"n_eval_processes\"])], start_method=parameters[\"start_method\"])\n",
    "    \n",
    "    env = VecNormalize(env)\n",
    "    env.load(\"./\" + test_name + '/env.pkl', env)\n",
    "\n",
    "    if parameters[\"algorithm\"] == \"PPO\":\n",
    "        model = PPO.load(\"./\" + test_name + \"/model.zip\", env=env, device=device)\n",
    "    elif parameters[\"algorithm\"] == \"DDPG\":\n",
    "        model = DDPG.load(\"./\" + test_name + \"/model.zip\", env=env, device=device)\n",
    "    elif parameters[\"algorithm\"] == \"SAC\":\n",
    "        model = SAC.load(\"./\" + test_name + \"/model.zip\", env=env, device=device)\n",
    "    else:\n",
    "        raise ValueError(\"Invalid algorithm specified in the configuration.\")\n",
    "    \n",
    "    def get_policy_action(obs):\n",
    "        action, _states = model.predict(obs, deterministic=True)\n",
    "        return action\n",
    "\n",
    "    # reset the environment to prepare for a rollout\n",
    "    env.training = False\n",
    "    env.norm_reward = False\n",
    "    episode_rewards = []\n",
    "    eval_episodes = parameters[\"eval_episodes\"]\n",
    "    for i_episode in range(eval_episodes):\n",
    "        obs = env.reset()\n",
    "        total_reward = 0\n",
    "        for t in range(parameters[\"horizon\"]):\n",
    "            env.render()\n",
    "            action = get_policy_action(obs)            # use observation to decide on an action\n",
    "            obs, reward, done, info = env.step(action) # play action\n",
    "            total_reward += reward\n",
    "            if done.all():\n",
    "                print(\"Episode finished after {} timesteps\".format(t+1))\n",
    "                break\n",
    "        episode_rewards.append(total_reward)\n",
    "    average_reward_per_environment = sum(episode_rewards) / len(episode_rewards)\n",
    "    average_reward = np.mean(average_reward_per_environment)\n",
    "    print(f\"Iteration {i_episode+1}/{eval_episodes}, Average Reward per Environment: {average_reward_per_environment}, Average Reward: {average_reward}\")\n",
    "    \n",
    "    # Close environment\n",
    "    env.close()"
   ]
  },
  {
   "cell_type": "markdown",
   "metadata": {},
   "source": [
    "### Insights and further testing\n",
    "\n",
    "With these initial tests, we tested a variety of robot configurations and parameters, evaluating them based on visual critic and the total collected reward per episode.\n",
    "We identified the Sawyer robot with its default gripper and the PPO algorithm as our most promising candidate. An additional insight is that changing the parameters responsible for steps taken until a policy update, the horizon and the control frequency of the robot influences the performance of the agent significantly. \n",
    "\n",
    "Further tests were conducted, but the lack of computing performance and the parameters being highly correlated with each other served as a strong bottleneck in solving this high-level task. It is easy to overlook configurations which would enable better performance when the parameters correlate with each other. In most cases, changing a parameter requires adapting the other parameters, otherwise the agent might even perform worse. The success of trying random combinations of parameters manually is very limited, since there is a very high number of possible parameter configurations.\n",
    "\n",
    "todo some simulation examples with tensorboard graphs and everything:"
   ]
  },
  {
   "cell_type": "code",
   "execution_count": null,
   "metadata": {},
   "outputs": [],
   "source": [
    "# replay of panda beeing clumsy with its grippers head"
   ]
  },
  {
   "cell_type": "code",
   "execution_count": null,
   "metadata": {},
   "outputs": [],
   "source": [
    "# replay of IIWA bugging"
   ]
  },
  {
   "cell_type": "code",
   "execution_count": null,
   "metadata": {},
   "outputs": [],
   "source": [
    "# replay of 20hz control freq"
   ]
  },
  {
   "cell_type": "code",
   "execution_count": null,
   "metadata": {},
   "outputs": [],
   "source": [
    "# replay of 100hz control freq"
   ]
  },
  {
   "cell_type": "code",
   "execution_count": null,
   "metadata": {},
   "outputs": [],
   "source": [
    "# replay of 250hz control freq"
   ]
  },
  {
   "cell_type": "markdown",
   "metadata": {},
   "source": [
    "## Hyperparameter Tuning with Optuna\n",
    "### Installing Optuna\n",
    "To bridge the gap of achieving a higher performance of the agent despite correlating parameters, a wider field of parameters needs to be evaluated.\n",
    "\n",
    "The [Optuna hyperparameter optimization](https://optuna.org) framework make this task feasible by automating the hyperparameter search. By sampling for each run, called trial, a value for each parameter from a specified range and training a model with these parameters, the model performance can be evaluated based on the mean reward. Optuna then provides after a specified number of trials which hyperparameters lead to the best performance, have the highest influence on model performance and how they correlate to each other.\n",
    "\n",
    "Install it by running the following command:"
   ]
  },
  {
   "cell_type": "code",
   "execution_count": null,
   "metadata": {},
   "outputs": [],
   "source": [
    "!pip install optuna"
   ]
  },
  {
   "cell_type": "markdown",
   "metadata": {},
   "source": [
    "### Running Optuna\n",
    "Running the following script executes 100 optima trials. Parameter ranges for the PPO algorithm are taken from the [RL3 baselines zoo repository](https://github.com/DLR-RM/rl-baselines3-zoo/blob/726e2f1d3f1a6ea58ad4ae61c02a4ba71d241e4b/rl_zoo3/hyperparams_opt.py#L11C5-L11C22). To reduce the hyperparameter search space, i.e. limit the number of trials, we either kept certain parameters fixed or reduced their range based on gathered insights from previous tests."
   ]
  },
  {
   "cell_type": "code",
   "execution_count": null,
   "metadata": {},
   "outputs": [],
   "source": [
    "import yaml\n",
    "from torch import nn as nn\n",
    "import optuna\n",
    "from optuna.visualization import plot_optimization_history\n",
    "\n",
    "\n",
    "# Set name of study\n",
    "study_name = \"study_sawyer_pickplace\"\n",
    "storage_name = \"sqlite:///{}.db\".format(study_name)\n",
    "\n",
    "# Load configuration\n",
    "with open(\"config_hyperparams.yaml\") as stream:\n",
    "    config = yaml.safe_load(stream)\n",
    "\n",
    "# Method to evaluate the policy\n",
    "def evaluate_policy(model, env, n_eval_episodes=5):\n",
    "    all_episode_rewards = []\n",
    "    for _ in range(n_eval_episodes):\n",
    "        episode_rewards = []\n",
    "        done = np.array([False])\n",
    "        obs = env.reset()\n",
    "        while not done.all():\n",
    "            action, _ = model.predict(obs, deterministic=True)\n",
    "            obs, reward, done, info = env.step(action)\n",
    "            episode_rewards.append(reward)\n",
    "        all_episode_rewards.append(np.sum(episode_rewards))\n",
    "    mean_reward = np.mean(all_episode_rewards)\n",
    "    return mean_reward\n",
    "\n",
    "def objective(trial):\n",
    "    # Suggest hyperparameters\n",
    "    #learning_rate = trial.suggest_float('learning_rate', 1e-4, 1e-2, log=True)\n",
    "    learning_rate = 0.001\n",
    "    batch_size = trial.suggest_categorical('batch_size', [32, 64, 128, 256])\n",
    "    gamma = trial.suggest_categorical('gamma', [0.9, 0.95, 0.98, 0.99, 0.995, 0.999, 0.9999])\n",
    "    n_steps = trial.suggest_categorical('n_steps', [512, 1024, 2048])\n",
    "    #horizon = trial.suggest_categorical('horizon', [512, 1024, 2048])\n",
    "    horizon = 512\n",
    "    control_freq = trial.suggest_uniform('control_freq', 100, 150)\n",
    "    #total_timesteps = trial.suggest_categorical('total_timesteps', [1e5, 2e5, 5e5, 1e6, 2e6])\n",
    "    total_timesteps = 3e5\n",
    "    ent_coef = trial.suggest_float(\"ent_coef\", 0.00000001, 0.1, log=True)\n",
    "    clip_range = trial.suggest_categorical(\"clip_range\", [0.1, 0.2, 0.3, 0.4])\n",
    "    #n_epochs = trial.suggest_categorical(\"n_epochs\", [1, 5, 10, 20])\n",
    "    gae_lambda = trial.suggest_categorical(\"gae_lambda\", [0.8, 0.9, 0.92, 0.95, 0.98, 0.99, 1.0])\n",
    "    max_grad_norm = trial.suggest_categorical(\"max_grad_norm\", [0.3, 0.5, 0.6, 0.7, 0.8, 0.9, 1, 2, 5])\n",
    "    vf_coef = trial.suggest_float(\"vf_coef\", 0, 1)\n",
    "    net_arch_type = trial.suggest_categorical(\"net_arch\", [\"tiny\", \"small\", \"medium\"])\n",
    "\n",
    "    print(\n",
    "        f\"Learning rate: {learning_rate}, \"\n",
    "        f\"Batch size: {batch_size}, \"\n",
    "        f\"Gamma: {gamma}, \"\n",
    "        f\"N steps: {n_steps}, \"\n",
    "        f\"Horizon: {horizon}, \"\n",
    "        f\"Control freq: {control_freq}, \"\n",
    "        f\"Total timesteps: {total_timesteps}, \"\n",
    "        f\"Entropy coefficient: {ent_coef}, \"\n",
    "        f\"Clip range: {clip_range}, \"\n",
    "        f\"GAE lambda: {gae_lambda}, \"\n",
    "        f\"Max grad norm: {max_grad_norm}, \"\n",
    "        f\"Value function coefficient: {vf_coef}, \"\n",
    "        f\"Network architecture: {net_arch_type}\")\n",
    "\n",
    "    # Set controller configuration\n",
    "    controller_config = load_controller_config(default_controller=config[\"controller\"])\n",
    "\n",
    "    # Setup environment\n",
    "    # Define environment parameters for specific environment \"PickPlace\"\n",
    "    env_options = {\n",
    "        \"robots\": config[\"robot_name\"],\n",
    "        \"controller_configs\": controller_config,\n",
    "        \"gripper_types\": config[\"gripper\"],\n",
    "        \"has_renderer\": False,\n",
    "        \"has_offscreen_renderer\": True,\n",
    "        \"single_object_mode\": 2,\n",
    "        \"object_type\": \"milk\",\n",
    "        \"use_camera_obs\": True,         # provide image observations to agent\n",
    "        \"use_object_obs\": False,        # don't provide object observations to agent\n",
    "        \"camera_names\": \"agentview\",    # use \"agentview\" camera for observations\n",
    "        \"camera_heights\": 128,          # image height\n",
    "        \"camera_widths\": 128,           # image width\n",
    "        \"reward_shaping\": True,         # use a dense reward signal for learning\n",
    "        \"horizon\": horizon,\n",
    "        \"control_freq\": control_freq,\n",
    "    }    \n",
    "    \n",
    "    # Setup environment\n",
    "    env = SubprocVecEnv([make_env(\"PickPlace\", env_options, i, config[\"seed\"]) for i in range(config[\"num_envs\"])], start_method='spawn') #remove start_method='spawn' if you are not training on MPS\n",
    "    env = VecNormalize(env)\n",
    "\n",
    "    # TODO: account when using multiple envs\n",
    "    if batch_size > n_steps:\n",
    "        batch_size = n_steps\n",
    "\n",
    "    # Check if cuda(linux) or mps(mac) is available\n",
    "    if torch.cuda.is_available():\n",
    "        device = torch.device(\"cuda\")\n",
    "        print(\"Cuda backend is available.\")\n",
    "    elif torch.backends.mps.is_available():\n",
    "        device = torch.device(\"mps\")\n",
    "        print(\"Mps backend is available.\")\n",
    "    else:\n",
    "        device = torch.device(\"cpu\")\n",
    "        print(\"Cuda backend is not available, using CPU.\")\n",
    "\n",
    "    # Orthogonal initialization\n",
    "    ortho_init = False\n",
    "\n",
    "    activation_fn_name = trial.suggest_categorical(\"activation_fn\", [\"tanh\", \"relu\"])\n",
    "\n",
    "    # Independent networks usually work best when not working with images\n",
    "    net_arch = {\n",
    "        \"tiny\": dict(pi=[64], vf=[64]),\n",
    "        \"small\": dict(pi=[64, 64], vf=[64, 64]),\n",
    "        \"medium\": dict(pi=[256, 256], vf=[256, 256]),\n",
    "    }[net_arch_type]\n",
    "\n",
    "    activation_fn = {\"tanh\": nn.Tanh, \"relu\": nn.ReLU, \"elu\": nn.ELU, \"leaky_relu\": nn.LeakyReLU}[activation_fn_name]\n",
    "\n",
    "    # Initialize model\n",
    "    if config[\"algorithm\"] == \"PPO\":\n",
    "        model = PPO(config[\"policy\"],\n",
    "                    env,\n",
    "                    learning_rate=learning_rate,\n",
    "                    batch_size=batch_size,\n",
    "                    gamma=gamma,\n",
    "                    n_steps=n_steps,\n",
    "                    ent_coef=ent_coef,\n",
    "                    clip_range=clip_range,\n",
    "                    gae_lambda=gae_lambda,\n",
    "                    max_grad_norm=max_grad_norm,\n",
    "                    vf_coef=vf_coef,\n",
    "                    policy_kwargs=dict(\n",
    "                                    net_arch=net_arch,\n",
    "                                    activation_fn=activation_fn,\n",
    "                                    ortho_init=ortho_init,\n",
    "                                    ),\n",
    "                    verbose=0,\n",
    "                    tensorboard_log=None,\n",
    "                    device=device\n",
    "                    )\n",
    "    elif config[\"algorithm\"] == \"DDPG\":\n",
    "        n_actions = env.action_space.shape[-1]\n",
    "        action_noise = NormalActionNoise(mean=np.zeros(n_actions), sigma=0.1 * np.ones(n_actions))\n",
    "        model = DDPG(config[\"policy\"], env, action_noise=action_noise, learning_rate=learning_rate, batch_size=batch_size, gamma=gamma, verbose=0, tensorboard_log=None, device=device)\n",
    "    elif config[\"algorithm\"] == \"SAC\":\n",
    "        model = SAC(config[\"policy\"], env, learning_rate=learning_rate, batch_size=batch_size, gamma=gamma, verbose=0, tensorboard_log=None, device=device)\n",
    "    \n",
    "    # Train the model\n",
    "    model.learn(total_timesteps=total_timesteps, progress_bar=True)\n",
    "    env.close()\n",
    "\n",
    "    # Setup evaluation environment\n",
    "    # Define environment parameters for specific environment \"PickPlace\"\n",
    "    eval_env = SubprocVecEnv([make_env(\"PickPlace\", env_options, i, config[\"seed\"]) for i in range(config[\"num_eval_envs\"])], start_method='spawn') #remove start_method='spawn' if you are not training on MPS\n",
    "    eval_env = VecNormalize(eval_env)\n",
    "\n",
    "    # Evaluate the model\n",
    "    mean_reward = evaluate_policy(model, eval_env, config[\"n_eval_episodes\"])\n",
    "    print(\"Mean reward: \", mean_reward)\n",
    "    eval_env.close()\n",
    "\n",
    "    trial.report(mean_reward, step=total_timesteps)\n",
    "\n",
    "    #Handle pruning based on the intermediate value\n",
    "    if trial.should_prune():\n",
    "        raise optuna.exceptions.TrialPruned()\n",
    "\n",
    "    return mean_reward\n",
    "\n",
    "# Optimize hyperparameters\n",
    "study = optuna.create_study(direction='maximize', study_name=study_name, storage=storage_name, load_if_exists=True)\n",
    "study.optimize(objective, config[\"n_trials\"])\n",
    "\n",
    "pruned_trials = [t for t in study.trials if t.state == optuna.trial.TrialState.PRUNED]\n",
    "complete_trials = [t for t in study.trials if t.state == optuna.trial.TrialState.COMPLETE]\n",
    "\n",
    "print('Study statistics: ')\n",
    "print('  Number of finished trials: ', len(study.trials))\n",
    "print('  Number of pruned trials: ', len(pruned_trials))\n",
    "print('  Number of complete trials: ', len(complete_trials))\n",
    "\n",
    "print('Best trial: ')\n",
    "trial = study.best_trial\n",
    "\n",
    "print('  Value: ', trial.value)\n",
    "print('  Params: ')\n",
    "for key, value in trial.params.items():\n",
    "    print('    {}: {}'.format(key, value))\n",
    "\n",
    "print('Best hyperparameters: ', study.best_params)\n",
    "\n",
    "plot_optimization_history(study)"
   ]
  },
  {
   "cell_type": "markdown",
   "metadata": {},
   "source": [
    "We let optuna run for 48 hours. The logs are also uploaded to this repository. See the section [Analysis](#Analysis) for the analysis of the results.\n"
   ]
  },
  {
   "cell_type": "markdown",
   "metadata": {},
   "source": [
    "### Optuna Dashboard\n",
    "Optuna dashboard visualizes the logged results of the optuna execution. \n",
    "The optuna dashboard can be accessed by executing the following command and opening up https://localhost:port in your browser."
   ]
  },
  {
   "cell_type": "code",
   "execution_count": null,
   "metadata": {},
   "outputs": [],
   "source": [
    "!optuna-dashboard sqlite:///study_sawyer_pickplace.db"
   ]
  },
  {
   "cell_type": "markdown",
   "metadata": {},
   "source": [
    "### Analysis\n",
    "Following are the results of the optuna hyperparameter optimization:\n",
    "#### Trial History:\n",
    "<img src=\"https://github.com/TheOrzo/IKfIR/blob/main/.assets/img/trial_history.png\" alt=\"Trial History\" width=\"500\">\n",
    "\n",
    "#### Hyperparameter Importance\n",
    "<img src=\"https://github.com/TheOrzo/IKfIR/blob/main/.assets/img/hyperparameter_importance.png\" alt=\"Hyperparameter Importance\" width=\"500\">\n",
    "\n",
    "#### Parallel Coordinate (Combinations of all trialed parameters):\n",
    "<img src=\"https://github.com/TheOrzo/IKfIR/blob/main/.assets/img/parallel_coordinate.png\" alt=\"Parallel Coordinate\" width=\"500\">\n",
    "\n",
    "In the _ section we can see that the parameters _, _, _ are especially important for the earned rewards. "
   ]
  },
  {
   "cell_type": "markdown",
   "metadata": {},
   "source": [
    "### Testing Optimized Parameters\n",
    "\n",
    "Let's see how our model with optimized parameters performs. The following script starts a replay of one of our most successfull runs. We can see ..."
   ]
  },
  {
   "cell_type": "code",
   "execution_count": null,
   "metadata": {},
   "outputs": [],
   "source": [
    "# Run replay"
   ]
  },
  {
   "cell_type": "markdown",
   "metadata": {},
   "source": [
    "## Conclusion\n",
    "As reinforcement learning is still an emerging field, many questions such as which model to use, how much training is needed and how the reward function can be designed or evaluated for a certain task need to be answered. Therefore solving a high-level RL task, such as pick-and-place, requires a structured training and evaluation approach.  New implementations and papers dealing with this topic are published frequently which we made use of while working on this project.\n",
    "\n",
    "Initial tests helped us to decide e.g. what robot to use, how many training steps are needed and what  horizon range, leads to the best results based on visual (simulation) and tensor board evaluation. Researching papers and implementations helped us reduce the dimension of the parameter space. Even with initial training and tests, certain hyperparameters we previously glossed over had a stronger influence on the model performance than assumed, such as ent_coeff and ...  which we gathered from using the Optuna hyperparameter optimization framework.\n",
    "\n",
    "Evaluating our results we gathered that the subtask \"reaching\" is achievable, the robot moves towards objects and touches them (even in the single-object mode). The main problems are reliable grasping and lifting. It seems that the robot attempts to grasp objects, but has not yet understood how its gripper works, the gripper often gets stuck or \"broken\" during attempts. The objects often get moved around, where they even phase through the walls of the bin. As previously mentioned the bottleneck was the limited computational power in the short time frame of two weeks."
   ]
  }
 ],
 "metadata": {
  "kernelspec": {
   "display_name": "Python 3",
   "language": "python",
   "name": "python3"
  },
  "language_info": {
   "codemirror_mode": {
    "name": "ipython",
    "version": 3
   },
   "file_extension": ".py",
   "mimetype": "text/x-python",
   "name": "python",
   "nbconvert_exporter": "python",
   "pygments_lexer": "ipython3",
   "version": "3.11.9"
  }
 },
 "nbformat": 4,
 "nbformat_minor": 2
}
